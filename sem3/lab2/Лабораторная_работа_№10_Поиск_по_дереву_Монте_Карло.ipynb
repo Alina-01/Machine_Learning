{
  "nbformat": 4,
  "nbformat_minor": 0,
  "metadata": {
    "colab": {
      "provenance": []
    },
    "kernelspec": {
      "name": "python3",
      "display_name": "Python 3"
    },
    "language_info": {
      "name": "python"
    }
  },
  "cells": [
    {
      "cell_type": "markdown",
      "source": [
        "Написать свой код к разделам 1 - 5 согласно заданиям для всех фрагментов, помеченных как: <ВАШ КОД:>"
      ],
      "metadata": {
        "id": "aWTJO2sXO8Hs"
      }
    },
    {
      "cell_type": "markdown",
      "source": [
        "Поиск по дереву Монте-Карло (MCTS) — это эвристический алгоритм поиска,\n",
        "который показывает отличные результаты в таких сложных областях, как го и\n",
        "шахматы. Алгоритм строит дерево поиска, итеративно обходит его и оценивает его\n",
        "узлы с помощью моделирования методом Монте-Карло.\n"
      ],
      "metadata": {
        "id": "kMf2fWa8ZpwU"
      }
    },
    {
      "cell_type": "markdown",
      "source": [
        "## 1 Предварительные действия"
      ],
      "metadata": {
        "id": "zD8qV4ZchaD0"
      }
    },
    {
      "cell_type": "code",
      "execution_count": 1,
      "metadata": {
        "id": "_2ATKnPoJiix"
      },
      "outputs": [],
      "source": [
        "import gym\n",
        "import numpy as np\n",
        "import matplotlib.pyplot as plt\n",
        "# Этот код создает виртуальный дисплей для рисования игровых изображений\n",
        "# Это не будет иметь никакого эффекта, если на вашей машине есть монитор\n",
        "import os\n",
        "\n",
        "# Устанавливаем DISPLAY на значение ':1' (виртуальный дисплей)\n",
        "if type(os.environ.get(\"DISPLAY\")) is not str or len(os.environ.get(\"DISPLAY\")) == 0:\n",
        " os.environ['DISPLAY'] = ':1'"
      ]
    },
    {
      "cell_type": "markdown",
      "source": [
        "Сначала нужно создать оболочку для сред Gym, позволяющую сохранять и загружать игровые состояния для облегчения возврата."
      ],
      "metadata": {
        "id": "aexuj7aAi9Eh"
      }
    },
    {
      "cell_type": "code",
      "source": [
        "import gym\n",
        "import numpy as np\n",
        "import matplotlib.pyplot as plt\n",
        "import os\n",
        "import gym\n",
        "from gym.core import Wrapper\n",
        "from pickle import dumps, loads\n",
        "from collections import namedtuple"
      ],
      "metadata": {
        "id": "bk7ttHae-rro"
      },
      "execution_count": 29,
      "outputs": []
    },
    {
      "cell_type": "code",
      "source": [
        "# Контейнер для хранения результатов выполнения действия\n",
        "ActionResult = namedtuple(\n",
        "    \"action_result\", (\"snapshot\", \"observation\", \"reward\", \"is_done\", \"info\"))\n",
        "\n",
        "class WithSnapshots(Wrapper):\n",
        "    \"\"\"\n",
        "    Создает оболочку, поддерживающую сохранение и загрузку состояний среды\n",
        "    Это нужно для алгоритмов планирования, таких как MCTS\n",
        "\n",
        "    Можно использовать self.render(), это создаст окно, которое нельзя замариновать\n",
        "    Таким образом, нужно будет вызвать self.close(), прежде чем травление снова заработает\n",
        "    \"\"\"\n",
        "    # Метод для сохранения текущего состояния среды (env) в виде снимка перед выполнением действия\n",
        "    def get_snapshot(self, render=False):\n",
        "        \"\"\"\n",
        "        Загружает сохраненный снимок в текущую среду\n",
        "        :returns: состояние среды, которое можно загрузить с помощью load_snapshot\n",
        "        Снимки гарантируют одинаковое поведение env при каждой загрузке\n",
        "        Предупреждение! Снимки могут быть произвольными вещами (строки, целые числа, json, кортежи)\n",
        "\n",
        "        \"\"\"\n",
        "        if render:\n",
        "            self.render()  # Закрываем всплывающие окна, если есть\n",
        "            self.close()\n",
        "\n",
        "        if hasattr(self.unwrapped, 'viewer') and self.unwrapped.viewer is not None:\n",
        "          # Закрываем viewer, чтобы избежать проблем с сохранением\n",
        "            self.unwrapped.viewer.close()\n",
        "            self.unwrapped.viewer = None\n",
        "        # Создаем снимок состояния без графического компонента\n",
        "        state = self.env.unwrapped.state  # или другие компоненты состояния, которые вы хотите сохранить\n",
        "        # Сохраняем состояние среды с помощью pickle\n",
        "        return dumps(state)\n",
        "\n",
        "    # Метод для восстановления состояния среды из сохраненного ранее снимка (в предыдущее состояние)\n",
        "    def load_snapshot(self, snapshot, render=False):\n",
        "        \"\"\"\n",
        "        Загружает сохраненный снимок в текущую среду\n",
        "        Не следует менять снапшот на месте\n",
        "        \"\"\"\n",
        "        # Проверяем, что запись не активна, чтобы избежать ошибок\n",
        "        assert not hasattr(self, \"_monitor\") or hasattr(\n",
        "            self.env, \"_monitor\"), \"не могу вернуться во время записи\"\n",
        "        if render:\n",
        "            self.render()  # Закрываем всплывающие окна, так как мы не можем загрузиться в них\n",
        "            self.close()\n",
        "        # Загружаем состояние среды из снапшота\n",
        "        self.env.unwrapped.state = loads(snapshot)\n",
        "\n",
        "    # Метод загружает сохраненное состояние среды, выполняет указанные действия, сохранняет новое состояние среды и возвращает результат и нвоый снимок\n",
        "    def get_result(self, snapshot, action):\n",
        "        \"\"\"\n",
        "        Удобная функция, которая\n",
        "        - загружает снимок,\n",
        "        - совершает действие через self.step,\n",
        "        - и снова делает снимок :)\n",
        "        :returns: следующий снимок, next_observation, награда, is_done, информация\n",
        "        По сути, он возвращает следующий снимок и все, что вернул бы env.step\n",
        "        \"\"\"\n",
        "        # Загружаем состояние из переданного снапшота\n",
        "        self.load_snapshot(snapshot)\n",
        "\n",
        "        next_observation, reward, is_done, truncated, info = self.step(action)\n",
        "\n",
        "        # Делаем новый снимок текущего состояния среды\n",
        "        next_snapshot = self.get_snapshot()\n",
        "\n",
        "        # Возвращаем результат действия и новый снимок\n",
        "        return ActionResult(\n",
        "            next_snapshot,    # Снимок нового состояния\n",
        "            next_observation, # Новое наблюдение после действия\n",
        "            reward,           # Награда\n",
        "            is_done,          # Завершение эпизода\n",
        "            info              # Информация\n",
        "        )"
      ],
      "metadata": {
        "id": "G0Etq_qOi8I5"
      },
      "execution_count": 39,
      "outputs": []
    },
    {
      "cell_type": "markdown",
      "source": [
        "## 2 Пробы со снимками"
      ],
      "metadata": {
        "id": "KtSlJN16x2NR"
      }
    },
    {
      "cell_type": "markdown",
      "source": [
        "Сначала сбрасываем окружение и сохраняем его, далее случайным образом играем какие-то действия и восстанавливаем наше\n",
        "окружение из снимка. Оно должно быть таким же, как наше предыдущее начальное\n",
        "состояние"
      ],
      "metadata": {
        "id": "3jIGdKQUyVCs"
      }
    },
    {
      "cell_type": "code",
      "source": [
        "# Создание окружения\n",
        "env = WithSnapshots(gym.make(\"CartPole-v1\", render_mode=\"rgb_array\"))\n",
        "# Сбрасываем среду, чтобы начать новый эпизод\n",
        "env.reset()\n",
        "# Получаем количество доступных действий в среде\n",
        "n_actions = env.action_space.n"
      ],
      "metadata": {
        "id": "UwV6gdiN2xoS"
      },
      "execution_count": 40,
      "outputs": []
    },
    {
      "cell_type": "code",
      "source": [
        "print(\"initial_state:\")\n",
        "# Получаем начальное изображение среды\n",
        "initial_state = env.render()\n",
        "\n",
        "# Отображаем изображение\n",
        "plt.imshow(initial_state)\n",
        "plt.axis('off')  # Выключить оси\n",
        "plt.show()\n",
        "\n",
        "env.close()"
      ],
      "metadata": {
        "colab": {
          "base_uri": "https://localhost:8080/",
          "height": 384
        },
        "id": "lPeZTXAL21kZ",
        "outputId": "04c00d8f-b263-482c-dc09-c21018af05c7"
      },
      "execution_count": 41,
      "outputs": [
        {
          "output_type": "stream",
          "name": "stdout",
          "text": [
            "initial_state:\n"
          ]
        },
        {
          "output_type": "display_data",
          "data": {
            "text/plain": [
              "<Figure size 640x480 with 1 Axes>"
            ],
            "image/png": "[encoded data removed]"
          },
          "metadata": {}
        }
      ]
    },
    {
      "cell_type": "code",
      "source": [
        "# Создание первого снимка\n",
        "snap0 = env.get_snapshot()"
      ],
      "metadata": {
        "id": "4JQ5lQc86waJ"
      },
      "execution_count": 42,
      "outputs": []
    },
    {
      "cell_type": "code",
      "source": [
        "# Проигрывание без снимков (быстрее - случайный)\n",
        "while True:\n",
        "    # Выполняем случайное действие и проверяем, завершен ли эпизод\n",
        "    is_done = env.step(env.action_space.sample())[2]\n",
        "    if is_done:\n",
        "        print(\"Whoops! We died!\")\n",
        "        break\n",
        "print(\"final state:\")\n",
        "plt.imshow(env.render())\n",
        "plt.axis('off')\n",
        "plt.show()"
      ],
      "metadata": {
        "colab": {
          "base_uri": "https://localhost:8080/",
          "height": 436
        },
        "id": "-bdqpOMd_oh_",
        "outputId": "4512fee9-e7dc-4717-afe7-499ea84ad359"
      },
      "execution_count": 43,
      "outputs": [
        {
          "output_type": "stream",
          "name": "stdout",
          "text": [
            "Whoops! We died!\n",
            "final state:\n"
          ]
        },
        {
          "output_type": "stream",
          "name": "stderr",
          "text": [
            "/usr/local/lib/python3.10/dist-packages/gym/utils/passive_env_checker.py:233: DeprecationWarning: `np.bool8` is a deprecated alias for `np.bool_`.  (Deprecated NumPy 1.24)\n",
            "  if not isinstance(terminated, (bool, np.bool8)):\n"
          ]
        },
        {
          "output_type": "display_data",
          "data": {
            "text/plain": [
              "<Figure size 640x480 with 1 Axes>"
            ],
            "image/png": "[encoded data removed]"
          },
          "metadata": {}
        }
      ]
    },
    {
      "cell_type": "code",
      "source": [
        "# Перезагрузка первичного состояния\n",
        "env.load_snapshot(snap0)\n",
        "print(\"\\n\\nAfter loading snapshot\")\n",
        "plt.imshow(env.render())\n",
        "plt.axis('off')\n",
        "plt.show()"
      ],
      "metadata": {
        "colab": {
          "base_uri": "https://localhost:8080/",
          "height": 419
        },
        "id": "meKZjlwE_0qi",
        "outputId": "079255c9-5ec4-430b-b727-8fc90fd736e2"
      },
      "execution_count": 44,
      "outputs": [
        {
          "output_type": "stream",
          "name": "stdout",
          "text": [
            "\n",
            "\n",
            "After loading snapshot\n"
          ]
        },
        {
          "output_type": "display_data",
          "data": {
            "text/plain": [
              "<Figure size 640x480 with 1 Axes>"
            ],
            "image/png": "[encoded data removed]"
          },
          "metadata": {}
        }
      ]
    },
    {
      "cell_type": "code",
      "source": [
        "# Получить результат выполнения случайного действия из состояния snap0(snapshot, observation, reward, is_done, info)\n",
        "res = env.get_result(snap0, env.action_space.sample())\n",
        "\n",
        "# Извлекаем данные из результата (новый снимок, наблюдение, награда)\n",
        "snap1, observation, reward = res[:3]\n",
        "\n",
        "# Второй шаг с новым состоянием (snap1)\n",
        "res2 = env.get_result(snap1, env.action_space.sample())\n"
      ],
      "metadata": {
        "id": "14QcQur6yW5V"
      },
      "execution_count": 45,
      "outputs": []
    },
    {
      "cell_type": "markdown",
      "source": [
        "## 3  MCTS: поиск по дереву Монте-Карло\n"
      ],
      "metadata": {
        "id": "-ecabdH41_kY"
      }
    },
    {
      "cell_type": "markdown",
      "source": [
        "Мы начнем с реализации класса Node — простого класса, который действует как узел MCTS и поддерживает некоторые шаги алгоритма MCTS"
      ],
      "metadata": {
        "id": "aG_8ocQ12CAb"
      }
    },
    {
      "cell_type": "code",
      "source": [
        "# Проверим, что объект env экземпляр класса WithSnapshots\n",
        "assert isinstance(env, WithSnapshots)"
      ],
      "metadata": {
        "id": "P26M52ZN2E5l"
      },
      "execution_count": 46,
      "outputs": []
    },
    {
      "cell_type": "code",
      "source": [
        "class Node:\n",
        "    \"\"\"Узел дерева для MCTS\n",
        "    Каждый узел соответствует результату выполнения определенного действия (self.action)\n",
        "    в определенном состоянии (самородитель) и, по сути, является одной рукой в многоруком\n",
        "    бандите, который мы моделируем в этом состоянии.\"\"\"\n",
        "\n",
        "    # Метаданные:\n",
        "    parent = None  # Родительский узел\n",
        "    qvalue_sum = 0.  # Сумма Q-значений из всех визитов (numerator) (сумма наград)\n",
        "    times_visited = 0  # Счетчик визитов (denominator) (чтобы учитывать количество попыток)\n",
        "\n",
        "    def __init__(self, parent, action):\n",
        "        \"\"\"\n",
        "        Создает пустой узел без дочерних элементов\n",
        "        Делает это, совершая действие и записывая результат\n",
        "        :param parent: родительский узел\n",
        "        :param action: действие для фиксации с родительского узла\n",
        "        \"\"\"\n",
        "        self.parent = parent\n",
        "        self.action = action\n",
        "        self.children = set()  # Набор дочерних узлов\n",
        "\n",
        "        # Получение результатов действий и их сохранение\n",
        "        res = env.get_result(parent.snapshot, action)\n",
        "        # Состояние, наблюдения, награда, завершенность эпизода\n",
        "        self.snapshot, self.observation, self.immediate_reward, self.is_done, _ = res\n",
        "\n",
        "    # Метод для опредления является ли узел листом (без дочерних листов)\n",
        "    # Для определения достиг ли алгоритм конечного состояния в дереве (если нет детей, то конечная точка)\n",
        "    def is_leaf(self):\n",
        "        return len(self.children) == 0\n",
        "\n",
        "    # Метод для определения является ли текущий узел корнем дерева (начальное состояние, с котрого начинается процесс поиска)\n",
        "    def is_root(self):\n",
        "        return self.parent is None\n",
        "\n",
        "    # Метод для оценки Q-значения узла\n",
        "    # Представляет собой среднюю награду, полученную от всех посещений этого узла\n",
        "    # Если узел был посещен хотя бы один раз, то метод возвращает среднее значение\n",
        "    # Если узел не был посещен, то метод возвращает 0\n",
        "    def get_qvalue_estimate(self):\n",
        "        return self.qvalue_sum / self.times_visited if self.times_visited != 0 else 0\n",
        "\n",
        "    # Метод для вычисления оценки ucb1\n",
        "    # Оценка UCB1 используется для балансировки между эксплуатацией (выбором действий с лучшими результатами)\n",
        "    # и исследованием (выбором действий с наименьшим числом посещений для сбора доп информации)\n",
        "    def ucb_score(self, scale=10, max_value=1e100):\n",
        "        \"\"\"\n",
        "        Вычисляет верхнюю границу ucb1, используя текущее значение и количество посещений для узла и его родителя\n",
        "\n",
        "        :param scale: Умножает на это верхнюю границу. Из неравенства Хёффдинга предполагается, что диапазон вознаграждения равен [0, шкала]\n",
        "        :param max_value: значение, которое возвращается для узлов, которые еще не были посещены\n",
        "        \"\"\"\n",
        "        # Если узел не был посещен, возвращаем максимально возможную оценку\n",
        "        if self.times_visited == 0:\n",
        "            return max_value\n",
        "\n",
        "        # Вычисляем аддитивный компонент ucb-1, который регулирует степень неопределенности\n",
        "        # Эта часть поощряет исследование узлов, которые были посещены меньше, так как они могут быть недооценены\n",
        "        U = np.sqrt(np.log(self.parent.times_visited) / self.times_visited)\n",
        "        # Возвращаем итоговую оценку UCB, которая состоит из среднего Q-значения и компонента неопределенности\n",
        "        return self.get_qvalue_estimate() + scale * U\n",
        "\n",
        "    # Метод для выбора узла с наивысшей оценкой для дальнейшего расширения\n",
        "    def select_best_leaf(self):\n",
        "        \"\"\"\n",
        "        Выбирает лист с наивысшим приоритетом для расширения\n",
        "        Делает это, рекурсивно выбирая узлы с лучшим результатом UCB-1, пока не достигнет листа\n",
        "        \"\"\"\n",
        "        if self.is_leaf():\n",
        "            return self\n",
        "        children = self.children # Если не лист, то выбираем дочерние узлы\n",
        "\n",
        "        # Ищем дочерний узел с наивысшей оценкой UCB\n",
        "        best_child = max(self.children, key=lambda child: child.ucb_score())\n",
        "        # Возвращает оценку для каждого дочернего узла, основываясь на его количестве посещений и текущем значении\n",
        "        return best_child.select_best_leaf()\n",
        "\n",
        "    # Метод расширяет дерево, добавляя новые возможности для дальнейших шагов\n",
        "    def expand(self):\n",
        "        \"\"\"\n",
        "        Расширяет текущий узел, создавая все возможные дочерние узлы\n",
        "        Затем возвращается один из этих детей\n",
        "        \"\"\"\n",
        "        assert not self.is_done, \"не может расширяться из терминального состояния\"\n",
        "\n",
        "        # Для каждого возможного действия генерируем новый дочерний узел\n",
        "        # n_actions — общее количество возможных действий\n",
        "        for action in range(n_actions):\n",
        "            self.children.add(Node(self, action))  # Для каждого действия создаем новый дочерний узел\n",
        "\n",
        "        # Возвращаем лучший дочерний узел\n",
        "        return self.select_best_leaf()\n",
        "\n",
        "    # Метод отвечает за симуляцию игры от текущего состояния узла до терминального состояния\n",
        "    def rollout(self, t_max=10 ** 4):\n",
        "        \"\"\"\n",
        "        Играйте в игру от этого состояния до конца (готово) или за t_max шагов\n",
        "        На каждом этапе выбирайте действие случайным образом\n",
        "        Вычислите сумму наград от текущего состояния до конца эпизода\n",
        "\n",
        "        Примечание 1: используйте env.action_space.sample() для выбора случайного действия\n",
        "        Примечание 2: если узел является терминальным (self.is_done имеет значение True), просто верните self.immediate_reward\n",
        "        \"\"\"\n",
        "        # Устанавливаем среду в состояние, сохраненное в snapshot\n",
        "        env.load_snapshot(self.snapshot)\n",
        "        obs = self.observation # Состояние в текущий момент времени\n",
        "        is_done = self.is_done # Проверка, завершен ли эпизод\n",
        "        total_reward = 0  # Сумма вознаграждений\n",
        "\n",
        "        # Выполняем шаги до завершения эпизода или достижения максимального числа шагов\n",
        "        for _ in range(t_max):\n",
        "            if is_done:\n",
        "                break  # Если эпизод завершен, выходим из цикла\n",
        "\n",
        "            # Выбираем случайное действие\n",
        "            action = env.action_space.sample()\n",
        "            # Выполняем выбранное действие в среде и получаем новое состояние и награду\n",
        "            obs, reward, is_done, info, _ = env.step(action)\n",
        "\n",
        "            total_reward += reward\n",
        "\n",
        "        # Возвращаем сумму наград после выполнения всех шагов\n",
        "        return total_reward\n",
        "\n",
        "    # Метод для обновления статистики узла, а затем передает информацию к родительским узлам\n",
        "    def propagate(self, child_qvalue):\n",
        "        \"\"\"\n",
        "        Использует дочернее Q-значение (сумму вознаграждений) для рекурсивного обновления родителей\n",
        "        \"\"\"\n",
        "        # Текущее Q-значение — это награда на шаге + вознаграждение от дочернего узла\n",
        "        my_qvalue = self.immediate_reward + child_qvalue\n",
        "\n",
        "        # Обновляем сумму Q-значений и количество посещений\n",
        "        self.qvalue_sum += my_qvalue\n",
        "        self.times_visited += 1\n",
        "\n",
        "        # Рекурсивно обновляем родительский узел\n",
        "        if not self.is_root():\n",
        "            self.parent.propagate(my_qvalue)\n",
        "\n",
        "    # Метод выполняет рекурсивное удаление узла и всех его дочерних узлов\n",
        "    def safe_delete(self):\n",
        "        \"\"\"Безопасное удаление для предотвращения утечек памяти в некоторых версиях Python\"\"\"\n",
        "        del self.parent  # Удаляем ссылку на родительский узел\n",
        "        for child in self.children:\n",
        "            child.safe_delete()  # Рекурсивно удаляем все дочерние узлы\n",
        "        del self  # Удаляем текущий узел\n",
        "\n",
        "\n",
        "class Root(Node):\n",
        "    def __init__(self, snapshot, observation):\n",
        "        \"\"\"\n",
        "        Создает специальный узел, который действует как корень дерева.\n",
        "\n",
        "        :snapshot: Снимок (из env.get_snapshot), с которого можно начать планирование\n",
        "        :observation: Последнее наблюдение за окружающей средой\n",
        "        \"\"\"\n",
        "        self.parent = None  # Корневой узел не имеет родителя\n",
        "        self.children = set()  # Выбор дочернего узла\n",
        "        # root: загрузка снимка и наблюдение\n",
        "        self.snapshot = snapshot  # Снимок состояния среды\n",
        "        self.observation = observation  # Последнее наблюдение\n",
        "        self.immediate_reward = 0  # Награда на текущем шаге\n",
        "        self.is_done = False  # Эпизод еще не завершен\n",
        "\n",
        "    @staticmethod\n",
        "    def from_node(node):\n",
        "        \"\"\"Инициализирует узел как root\"\"\"\n",
        "        root = Root(node.snapshot, node.observation)\n",
        "        # Копируем данные из существующего узла\n",
        "        copied_fields = [\"qvalue_sum\", \"times_visited\", \"children\", \"is_done\"]\n",
        "        for field in copied_fields:\n",
        "            setattr(root, field, getattr(node, field))\n",
        "        return root\n"
      ],
      "metadata": {
        "id": "KmKi5t8y27yi"
      },
      "execution_count": 47,
      "outputs": []
    },
    {
      "cell_type": "markdown",
      "source": [
        "## 4 Основной цикл MCTS"
      ],
      "metadata": {
        "id": "a0mYajZ5Cu8_"
      }
    },
    {
      "cell_type": "markdown",
      "source": [
        "Алгоритм:\n",
        "- выбираем лучший лист\n",
        "- если узел не терминальный, то создаем дочерние для всех действий и выбираем один для дальнейшего исследования\n",
        "- играем начиная с текущего состояния и до конца\n",
        "- после симуляции, обновляем родительские узлы с полученной наградой"
      ],
      "metadata": {
        "id": "ubBsRVpoC--0"
      }
    },
    {
      "cell_type": "code",
      "source": [
        "def plan_mcts(root, n_iters=10):\n",
        "    \"\"\"\n",
        "    Строит дерево с поиском по дереву Монте-Карло для n_iters итераций\n",
        "    :param root: узел дерева для планирования\n",
        "    :param n_iters: сколько циклов select-expand-simulate-propagate сделать\n",
        "    \"\"\"\n",
        "    for _ in range(n_iters):\n",
        "        # Выбор лучшего листа\n",
        "        # Используем метод select_best_leaf для выбора узла с наивысшей оценкой\n",
        "        node = root.select_best_leaf()\n",
        "\n",
        "        # Если узел терминальный (игра завершена), то все развертывания с этого узла имеют 0 награды\n",
        "        if node.is_done:\n",
        "            node.propagate(0)\n",
        "        else:\n",
        "            # Развертывание  лучшего листа и создание всевозможных дочерних узлов с наивысшей оценкой\n",
        "            child = node.expand()\n",
        "\n",
        "            # Выполняем случайное действие до завершения эпизода или достижения максимального числа шагов\n",
        "            reward = child.rollout()  # Получаем награду используется для обнуления узлов\n",
        "\n",
        "            # Распространение результатов вверх\n",
        "            child.propagate(reward)\n"
      ],
      "metadata": {
        "id": "XYIWO4xbCyhw"
      },
      "execution_count": 48,
      "outputs": []
    },
    {
      "cell_type": "markdown",
      "source": [
        "## 5 Планирование и запуск"
      ],
      "metadata": {
        "id": "N3XHuTovxC6F"
      }
    },
    {
      "cell_type": "markdown",
      "source": [
        "Используем реализацию MCTS, чтобы найти оптимальную политику"
      ],
      "metadata": {
        "id": "OkixQXQnxF5W"
      }
    },
    {
      "cell_type": "code",
      "source": [
        "# Инициализация среды и корневого узла\n",
        "env = WithSnapshots(gym.make(\"CartPole-v1\"))  # Создаём среду с поддержкой снимков\n",
        "root_observation = env.reset()  # Сбрасываем среду и получаем начальное наблюдение\n",
        "root_snapshot = env.get_snapshot()  # Создаём снимок текущего состояния среды\n",
        "root = Root(root_snapshot, root_observation)  # Создаём корневой узел для дерева MCTS\n",
        "\n",
        "# Планируем дерево поиска MCTS\n",
        "plan_mcts(root, n_iters=1000)  # Выполняем планирование на 1000 итераций"
      ],
      "metadata": {
        "id": "L0oLi0ElxFid",
        "colab": {
          "base_uri": "https://localhost:8080/"
        },
        "outputId": "bcd88c5e-2073-4955-cb0f-fd0ea453cdad"
      },
      "execution_count": 77,
      "outputs": [
        {
          "output_type": "stream",
          "name": "stderr",
          "text": [
            "/usr/local/lib/python3.10/dist-packages/gym/envs/classic_control/cartpole.py:177: UserWarning: \u001b[33mWARN: You are calling 'step()' even though this environment has already returned terminated = True. You should always call 'reset()' once you receive 'terminated = True' -- any further steps are undefined behavior.\u001b[0m\n",
            "  logger.warn(\n"
          ]
        }
      ]
    },
    {
      "cell_type": "code",
      "source": [
        "import gym\n",
        "import matplotlib.pyplot as plt\n",
        "from IPython.display import clear_output\n",
        "from itertools import count\n",
        "\n",
        "# Инициализация тестовой среды\n",
        "total_reward = 0  # Общая сумма наград\n",
        "# Создаем новую среду для тестирования\n",
        "test_env = WithSnapshots(gym.make(\"CartPole-v1\", render_mode=\"rgb_array\"))\n",
        "\n",
        "# Сбрасываем тестовую среду\n",
        "test_env.reset()\n",
        "\n",
        "# Оборачиваем среду в RecordVideo\n",
        "test_env = RecordVideo(test_env, video_folder='videos', name_prefix='test_run')\n",
        "\n",
        "# Визуализация и взаимодействие с тестовой средой\n",
        "for i in count():\n",
        "    # Выбор лучшего дочернего узла на основе среднего значения наград\n",
        "    best_child = max(root.children, key=lambda child: child.get_qvalue_estimate())\n",
        "\n",
        "    # Выполнение действия, связанного с лучшим узлом\n",
        "    s, r, done, info, _ = test_env.step(best_child.action)\n",
        "    print(f\"Step {i}, State: {s}, Reward: {r}, Done: {done}\")\n",
        "\n",
        "    # Отображаем текущее состояние среды\n",
        "    clear_output(True)\n",
        "    plt.title(f\"Step {i}\")\n",
        "\n",
        "    # Используем render для отображения изображения\n",
        "    img = test_env.unwrapped.render()\n",
        "    if img is not None:\n",
        "        plt.imshow(img)  # Рендерим изображение среды\n",
        "        plt.axis('off')\n",
        "        plt.show()\n",
        "    else:\n",
        "        print(\"Error: render returned None\")\n",
        "\n",
        "    # Обновляем всю награду\n",
        "    total_reward += r\n",
        "\n",
        "    # Если эпизод завершён, выводим результат и завершаем цикл\n",
        "    if done:\n",
        "        print(\"Finished with reward = \", total_reward)\n",
        "        # Закрываем тестовую среду\n",
        "        test_env.close()\n",
        "        break\n",
        "\n",
        "    # Удаляем из дерева все дочерние узлы, кроме лучшего\n",
        "    for child in root.children:\n",
        "        if child != best_child:\n",
        "            child.safe_delete()\n",
        "\n",
        "    # Объявляем лучшего потомка новым корнем дерева\n",
        "    root = Root.from_node(best_child)\n",
        "\n",
        "    # Проверяем, не закончились ли листья дерева\n",
        "    assert not root.is_leaf(), \\\n",
        "        \"У нас закончилось дерево! Нужно больше планирования! Попробуйте вырастить дерево прямо внутри цикла.\"\n",
        "\n",
        "    # Дополнительное планирование для роста дерева\n",
        "    plan_mcts(root, n_iters=100)  # Выполняем дополнительные итерации планирования\n"
      ],
      "metadata": {
        "colab": {
          "base_uri": "https://localhost:8080/",
          "height": 406
        },
        "id": "AINXJMT5Hcl8",
        "outputId": "c06306d5-c045-4ebd-dfa6-5a25491ddece"
      },
      "execution_count": 88,
      "outputs": [
        {
          "output_type": "display_data",
          "data": {
            "text/plain": [
              "<Figure size 640x480 with 1 Axes>"
            ],
            "image/png": "[encoded data removed]"
          },
          "metadata": {}
        },
        {
          "output_type": "stream",
          "name": "stdout",
          "text": [
            "Finished with reward =  47.0\n"
          ]
        }
      ]
    }
  ]
}