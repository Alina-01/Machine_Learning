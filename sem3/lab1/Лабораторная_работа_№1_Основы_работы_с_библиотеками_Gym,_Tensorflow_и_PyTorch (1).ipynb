{
  "nbformat": 4,
  "nbformat_minor": 0,
  "metadata": {
    "colab": {
      "provenance": []
    },
    "kernelspec": {
      "name": "python3",
      "display_name": "Python 3"
    },
    "language_info": {
      "name": "python"
    }
  },
  "cells": [
    {
      "cell_type": "markdown",
      "source": [
        "# Задание 1. Создать среду Taxi-v3, отобразить кадры среды, значение временного шага, код состояния, код действия, значение вознаграждения для 10 случайных действий."
      ],
      "metadata": {
        "id": "ff-DitxUMlsE"
      }
    },
    {
      "cell_type": "code",
      "execution_count": null,
      "metadata": {
        "colab": {
          "base_uri": "https://localhost:8080/"
        },
        "id": "1XXzwUeLD-GG",
        "outputId": "1d6a5648-e3bc-48fb-9f49-f3187e96b65b"
      },
      "outputs": [
        {
          "output_type": "stream",
          "name": "stdout",
          "text": [
            "Requirement already satisfied: gym in /usr/local/lib/python3.10/dist-packages (0.25.2)\n",
            "Requirement already satisfied: numpy>=1.18.0 in /usr/local/lib/python3.10/dist-packages (from gym) (1.26.4)\n",
            "Requirement already satisfied: cloudpickle>=1.2.0 in /usr/local/lib/python3.10/dist-packages (from gym) (3.1.0)\n",
            "Requirement already satisfied: gym_notices>=0.0.4 in /usr/local/lib/python3.10/dist-packages (from gym) (0.0.8)\n"
          ]
        }
      ],
      "source": [
        "# Установка библиотеки Gym\n",
        "!pip install gym"
      ]
    },
    {
      "cell_type": "markdown",
      "source": [
        "Инициализация и визуализация среды Taxi-v3, которая представляет собой задачу управления такси"
      ],
      "metadata": {
        "id": "tvsjw1v7NtXu"
      }
    },
    {
      "cell_type": "code",
      "source": [
        "# Запускаем экземпля среды Taxi-v3\n",
        "import gym\n",
        "import time\n",
        "env = gym.make('Taxi-v3', render_mode='human')\n",
        "\n",
        "# Сбрасываем среду к начальному внутреннему состоянию\n",
        "state = env.reset()\n",
        "print(f\"Начальное состояние: {state}\")"
      ],
      "metadata": {
        "colab": {
          "base_uri": "https://localhost:8080/"
        },
        "id": "TWSQcfS-NNyP",
        "outputId": "c9892264-1820-45bf-a475-39837a71d1e7"
      },
      "execution_count": null,
      "outputs": [
        {
          "output_type": "stream",
          "name": "stdout",
          "text": [
            "Начальное состояние: 346\n"
          ]
        }
      ]
    },
    {
      "cell_type": "code",
      "source": [
        "# Вывод кадра текущего состояния среды \"Taxi\"\n",
        "env.render()"
      ],
      "metadata": {
        "id": "Dloc6sfKRXIL"
      },
      "execution_count": null,
      "outputs": []
    },
    {
      "cell_type": "code",
      "source": [
        "# Выполняем 10 случайных действий\n",
        "for step in range(10):\n",
        "\n",
        "    # Отображаем состояние среды\n",
        "    env.render()\n",
        "\n",
        "    # Генерим случайное действие\n",
        "    action = env.action_space.sample()\n",
        "\n",
        "    # Выполняем действие\n",
        "    # Функция step среды возвращает состояние среды, которая возвращает 4 значения\n",
        "    next_state, reward, done, info = env.step(action)\n",
        "\n",
        "    # Печать информации о текущем шаге\n",
        "    print(f\"Шаг {step+1}:\")\n",
        "    print(f\"Код состояния: {state}\") # Предыдущее состояние\n",
        "    print(f\"Код действия: {action}\")\n",
        "    print(f\"Вознаграждение: {reward}\")\n",
        "    print(f\"Следующее состояние: {next_state}\")\n",
        "    print(f\"Флаг завершения: {done}\")\n",
        "    print(\"_________________________\")\n",
        "\n",
        "    # Обновляем на следующее состояние\n",
        "    state = next_state\n",
        "\n",
        "    # Значие True указывает на завершение эпизода, то есть сбрасываем среду\n",
        "    if done:\n",
        "      print(\"\\nЭпизод завершен! Сбрасываем среду.\")\n",
        "      env.render()\n",
        "      break\n",
        "\n",
        "# Закрываем среду\n",
        "env.close()"
      ],
      "metadata": {
        "id": "awZKKUBROsOU",
        "colab": {
          "base_uri": "https://localhost:8080/"
        },
        "outputId": "7972dc16-6b1c-4499-b211-d38da4a0aa40"
      },
      "execution_count": null,
      "outputs": [
        {
          "output_type": "stream",
          "name": "stderr",
          "text": [
            "/usr/local/lib/python3.10/dist-packages/gym/utils/passive_env_checker.py:241: DeprecationWarning: `np.bool8` is a deprecated alias for `np.bool_`.  (Deprecated NumPy 1.24)\n",
            "  if not isinstance(terminated, (bool, np.bool8)):\n"
          ]
        },
        {
          "output_type": "stream",
          "name": "stdout",
          "text": [
            "Шаг 1:\n",
            "Код состояния: 346\n",
            "Код действия: 1\n",
            "Вознаграждение: -1\n",
            "Следующее состояние: 246\n",
            "Флаг завершения: False\n",
            "_________________________\n",
            "Шаг 2:\n",
            "Код состояния: 246\n",
            "Код действия: 3\n",
            "Вознаграждение: -1\n",
            "Следующее состояние: 226\n",
            "Флаг завершения: False\n",
            "_________________________\n",
            "Шаг 3:\n",
            "Код состояния: 226\n",
            "Код действия: 1\n",
            "Вознаграждение: -1\n",
            "Следующее состояние: 126\n",
            "Флаг завершения: False\n",
            "_________________________\n",
            "Шаг 4:\n",
            "Код состояния: 126\n",
            "Код действия: 0\n",
            "Вознаграждение: -1\n",
            "Следующее состояние: 226\n",
            "Флаг завершения: False\n",
            "_________________________\n",
            "Шаг 5:\n",
            "Код состояния: 226\n",
            "Код действия: 5\n",
            "Вознаграждение: -10\n",
            "Следующее состояние: 226\n",
            "Флаг завершения: False\n",
            "_________________________\n",
            "Шаг 6:\n",
            "Код состояния: 226\n",
            "Код действия: 3\n",
            "Вознаграждение: -1\n",
            "Следующее состояние: 206\n",
            "Флаг завершения: False\n",
            "_________________________\n",
            "Шаг 7:\n",
            "Код состояния: 206\n",
            "Код действия: 1\n",
            "Вознаграждение: -1\n",
            "Следующее состояние: 106\n",
            "Флаг завершения: False\n",
            "_________________________\n",
            "Шаг 8:\n",
            "Код состояния: 106\n",
            "Код действия: 5\n",
            "Вознаграждение: -10\n",
            "Следующее состояние: 106\n",
            "Флаг завершения: False\n",
            "_________________________\n",
            "Шаг 9:\n",
            "Код состояния: 106\n",
            "Код действия: 0\n",
            "Вознаграждение: -1\n",
            "Следующее состояние: 206\n",
            "Флаг завершения: False\n",
            "_________________________\n",
            "Шаг 10:\n",
            "Код состояния: 206\n",
            "Код действия: 3\n",
            "Вознаграждение: -1\n",
            "Следующее состояние: 206\n",
            "Флаг завершения: False\n",
            "_________________________\n"
          ]
        }
      ]
    },
    {
      "cell_type": "markdown",
      "source": [
        "В Taxi-v3 эпизод завершается только при выполнении поставленной задачи — пассажир доставляется в нужное место. Генерация случайных действий (env.action_space.sample()) редко приводит к выполнению этой цели\n"
      ],
      "metadata": {
        "id": "ZEPCjKoubxNp"
      }
    },
    {
      "cell_type": "markdown",
      "source": [
        "# Задание 2. Используя библиотеку tensorflow, создайте, обучите и оцените свою модель, используя датасет, отличный от MNIST"
      ],
      "metadata": {
        "id": "xraIk06Luor6"
      }
    },
    {
      "cell_type": "markdown",
      "source": [
        "1. Установка библиотеки Tensorflow"
      ],
      "metadata": {
        "id": "x3NnZSUW-hSU"
      }
    },
    {
      "cell_type": "code",
      "source": [
        "!pip install tensorflow"
      ],
      "metadata": {
        "colab": {
          "base_uri": "https://localhost:8080/"
        },
        "id": "bNYWYIfwx0Zp",
        "outputId": "5dc27081-081b-4afb-d05d-e1b443efd9bd"
      },
      "execution_count": 34,
      "outputs": [
        {
          "output_type": "stream",
          "name": "stdout",
          "text": [
            "Requirement already satisfied: tensorflow in /usr/local/lib/python3.10/dist-packages (2.17.1)\n",
            "Requirement already satisfied: absl-py>=1.0.0 in /usr/local/lib/python3.10/dist-packages (from tensorflow) (1.4.0)\n",
            "Requirement already satisfied: astunparse>=1.6.0 in /usr/local/lib/python3.10/dist-packages (from tensorflow) (1.6.3)\n",
            "Requirement already satisfied: flatbuffers>=24.3.25 in /usr/local/lib/python3.10/dist-packages (from tensorflow) (24.3.25)\n",
            "Requirement already satisfied: gast!=0.5.0,!=0.5.1,!=0.5.2,>=0.2.1 in /usr/local/lib/python3.10/dist-packages (from tensorflow) (0.6.0)\n",
            "Requirement already satisfied: google-pasta>=0.1.1 in /usr/local/lib/python3.10/dist-packages (from tensorflow) (0.2.0)\n",
            "Requirement already satisfied: h5py>=3.10.0 in /usr/local/lib/python3.10/dist-packages (from tensorflow) (3.12.1)\n",
            "Requirement already satisfied: libclang>=13.0.0 in /usr/local/lib/python3.10/dist-packages (from tensorflow) (18.1.1)\n",
            "Requirement already satisfied: ml-dtypes<0.5.0,>=0.3.1 in /usr/local/lib/python3.10/dist-packages (from tensorflow) (0.4.1)\n",
            "Requirement already satisfied: opt-einsum>=2.3.2 in /usr/local/lib/python3.10/dist-packages (from tensorflow) (3.4.0)\n",
            "Requirement already satisfied: packaging in /usr/local/lib/python3.10/dist-packages (from tensorflow) (24.2)\n",
            "Requirement already satisfied: protobuf!=4.21.0,!=4.21.1,!=4.21.2,!=4.21.3,!=4.21.4,!=4.21.5,<5.0.0dev,>=3.20.3 in /usr/local/lib/python3.10/dist-packages (from tensorflow) (4.25.5)\n",
            "Requirement already satisfied: requests<3,>=2.21.0 in /usr/local/lib/python3.10/dist-packages (from tensorflow) (2.32.3)\n",
            "Requirement already satisfied: setuptools in /usr/local/lib/python3.10/dist-packages (from tensorflow) (75.1.0)\n",
            "Requirement already satisfied: six>=1.12.0 in /usr/local/lib/python3.10/dist-packages (from tensorflow) (1.16.0)\n",
            "Requirement already satisfied: termcolor>=1.1.0 in /usr/local/lib/python3.10/dist-packages (from tensorflow) (2.5.0)\n",
            "Requirement already satisfied: typing-extensions>=3.6.6 in /usr/local/lib/python3.10/dist-packages (from tensorflow) (4.12.2)\n",
            "Requirement already satisfied: wrapt>=1.11.0 in /usr/local/lib/python3.10/dist-packages (from tensorflow) (1.16.0)\n",
            "Requirement already satisfied: grpcio<2.0,>=1.24.3 in /usr/local/lib/python3.10/dist-packages (from tensorflow) (1.68.0)\n",
            "Requirement already satisfied: tensorboard<2.18,>=2.17 in /usr/local/lib/python3.10/dist-packages (from tensorflow) (2.17.1)\n",
            "Requirement already satisfied: keras>=3.2.0 in /usr/local/lib/python3.10/dist-packages (from tensorflow) (3.5.0)\n",
            "Requirement already satisfied: tensorflow-io-gcs-filesystem>=0.23.1 in /usr/local/lib/python3.10/dist-packages (from tensorflow) (0.37.1)\n",
            "Requirement already satisfied: numpy<2.0.0,>=1.23.5 in /usr/local/lib/python3.10/dist-packages (from tensorflow) (1.26.4)\n",
            "Requirement already satisfied: wheel<1.0,>=0.23.0 in /usr/local/lib/python3.10/dist-packages (from astunparse>=1.6.0->tensorflow) (0.45.0)\n",
            "Requirement already satisfied: rich in /usr/local/lib/python3.10/dist-packages (from keras>=3.2.0->tensorflow) (13.9.4)\n",
            "Requirement already satisfied: namex in /usr/local/lib/python3.10/dist-packages (from keras>=3.2.0->tensorflow) (0.0.8)\n",
            "Requirement already satisfied: optree in /usr/local/lib/python3.10/dist-packages (from keras>=3.2.0->tensorflow) (0.13.1)\n",
            "Requirement already satisfied: charset-normalizer<4,>=2 in /usr/local/lib/python3.10/dist-packages (from requests<3,>=2.21.0->tensorflow) (3.4.0)\n",
            "Requirement already satisfied: idna<4,>=2.5 in /usr/local/lib/python3.10/dist-packages (from requests<3,>=2.21.0->tensorflow) (3.10)\n",
            "Requirement already satisfied: urllib3<3,>=1.21.1 in /usr/local/lib/python3.10/dist-packages (from requests<3,>=2.21.0->tensorflow) (2.2.3)\n",
            "Requirement already satisfied: certifi>=2017.4.17 in /usr/local/lib/python3.10/dist-packages (from requests<3,>=2.21.0->tensorflow) (2024.8.30)\n",
            "Requirement already satisfied: markdown>=2.6.8 in /usr/local/lib/python3.10/dist-packages (from tensorboard<2.18,>=2.17->tensorflow) (3.7)\n",
            "Requirement already satisfied: tensorboard-data-server<0.8.0,>=0.7.0 in /usr/local/lib/python3.10/dist-packages (from tensorboard<2.18,>=2.17->tensorflow) (0.7.2)\n",
            "Requirement already satisfied: werkzeug>=1.0.1 in /usr/local/lib/python3.10/dist-packages (from tensorboard<2.18,>=2.17->tensorflow) (3.1.3)\n",
            "Requirement already satisfied: MarkupSafe>=2.1.1 in /usr/local/lib/python3.10/dist-packages (from werkzeug>=1.0.1->tensorboard<2.18,>=2.17->tensorflow) (3.0.2)\n",
            "Requirement already satisfied: markdown-it-py>=2.2.0 in /usr/local/lib/python3.10/dist-packages (from rich->keras>=3.2.0->tensorflow) (3.0.0)\n",
            "Requirement already satisfied: pygments<3.0.0,>=2.13.0 in /usr/local/lib/python3.10/dist-packages (from rich->keras>=3.2.0->tensorflow) (2.18.0)\n",
            "Requirement already satisfied: mdurl~=0.1 in /usr/local/lib/python3.10/dist-packages (from markdown-it-py>=2.2.0->rich->keras>=3.2.0->tensorflow) (0.1.2)\n"
          ]
        }
      ]
    },
    {
      "cell_type": "markdown",
      "source": [
        "2. Импорт библиотек"
      ],
      "metadata": {
        "id": "yM32AORk28Rq"
      }
    },
    {
      "cell_type": "code",
      "source": [
        "import tensorflow as tf\n",
        "from tensorflow.keras.layers import Dense, Flatten, Conv2D, MaxPooling2D, Dropout\n",
        "from tensorflow.keras import Model\n",
        "from tensorflow.keras.datasets import cifar10\n",
        "from tensorflow.keras.regularizers import l2\n",
        "\n",
        "import matplotlib.pyplot as plt\n"
      ],
      "metadata": {
        "id": "oC32Co8O28Rr"
      },
      "execution_count": 35,
      "outputs": []
    },
    {
      "cell_type": "markdown",
      "source": [
        "3. Загрузка и подготовка набора данных CIFAR-10"
      ],
      "metadata": {
        "id": "46TpO6F19IR2"
      }
    },
    {
      "cell_type": "markdown",
      "source": [
        "CIFAR-10 представляет собой цветные изображения с размерами 32x32 пикселя и 3 каналами (красный, зеленый и синий)"
      ],
      "metadata": {
        "id": "0w8J0nVv9159"
      }
    },
    {
      "cell_type": "code",
      "source": [
        "# Загрузим CIFAR-10\n",
        "(x_train, y_train), (x_test, y_test) = cifar10.load_data()\n",
        "\n",
        "# Нормализация данных\n",
        "x_train, x_test = x_train / 255.0, x_test / 255.0\n",
        "\n",
        "# Преобразование меток в одномерный массив\n",
        "y_train = y_train.flatten()\n",
        "y_test = y_test.flatten()"
      ],
      "metadata": {
        "id": "wU-kMY923peJ"
      },
      "execution_count": 36,
      "outputs": []
    },
    {
      "cell_type": "markdown",
      "source": [
        "4. Создание тренировочного и тестового наборов данных"
      ],
      "metadata": {
        "id": "F7WP0WHq-m4E"
      }
    },
    {
      "cell_type": "code",
      "source": [
        "# Использование tf.data для пакетной обработки и перемешивания набора данных\n",
        "# from_tensor_slices создаем набор данных из x и y\n",
        "# shuffle(10000) для перемешивания будет использовать буфер размером 10.000\n",
        "train_ds = tf.data.Dataset.from_tensor_slices((x_train, y_train)).shuffle(10000).batch(32)\n",
        "test_ds = tf.data.Dataset.from_tensor_slices((x_test, y_test)).batch(32)\n"
      ],
      "metadata": {
        "id": "gbyeVGr29-Is"
      },
      "execution_count": 37,
      "outputs": []
    },
    {
      "cell_type": "code",
      "source": [
        "# Визуализируем несколько изображений из датасета\n",
        "class_names = [\"airplane\", \"automobile\", \"bird\", \"cat\", \"deer\", \"dog\", \"frog\", \"horse\", \"ship\", \"truck\"]\n",
        "\n",
        "plt.figure(figsize=(10, 10))\n",
        "for i in range(9):\n",
        "    plt.subplot(3, 3, i+1)\n",
        "    plt.imshow(x_train[i])\n",
        "    plt.title(class_names[int(y_train[i].argmax())])\n",
        "    plt.axis(\"off\")\n",
        "plt.show()"
      ],
      "metadata": {
        "colab": {
          "base_uri": "https://localhost:8080/",
          "height": 677
        },
        "id": "mFmmYEemTTDL",
        "outputId": "127caada-4ae1-489e-fb71-da6a287aab68"
      },
      "execution_count": 38,
      "outputs": [
        {
          "output_type": "display_data",
          "data": {
            "text/plain": [
              "<Figure size 1000x1000 with 9 Axes>"
            ],
            "image/png": "[encoded data removed]"
          },
          "metadata": {}
        }
      ]
    },
    {
      "cell_type": "markdown",
      "source": [
        "5. Создание модели"
      ],
      "metadata": {
        "id": "U2uD7EkaAmoB"
      }
    },
    {
      "cell_type": "markdown",
      "source": [
        "У нас будет модель, которая представляет собой сверточную нейронку для классификации изображений с использованием двух сверточных слоев и двух полносвязанных слоев"
      ],
      "metadata": {
        "id": "zzBRcYoUEEGx"
      }
    },
    {
      "cell_type": "code",
      "source": [
        "class MyModel(Model):\n",
        "    def __init__(self):\n",
        "        super(MyModel, self).__init__()\n",
        "        self.conv1 = Conv2D(32, 3, activation='relu', padding='same')  # Сверточный слой 1\n",
        "        self.pool1 = MaxPooling2D(pool_size=(2, 2))  # Снижаем размерность\n",
        "        self.conv2 = Conv2D(64, 3, activation='relu', padding='same')  # Сверточный слой 2\n",
        "        self.pool2 = MaxPooling2D(pool_size=(2, 2))  # Снижаем размерность\n",
        "        self.conv3 = Conv2D(128, 3, activation='relu', padding='same')  # Новый сверточный слой\n",
        "        self.pool3 = MaxPooling2D(pool_size=(2, 2))  # Снижаем размерность\n",
        "        self.flatten = Flatten()  # Преобразуем тензор в одномерный\n",
        "        self.d1 = Dense(128, activation='relu')  # Полносвязный слой\n",
        "        self.dropout = Dropout(0.3)\n",
        "        self.d2 = Dense(10)  # Для 10 классов в CIFAR-10\n",
        "\n",
        "    # На вход поступает изображение, которое проходит через все слови модели по очереди\n",
        "    def call(self, x):\n",
        "        x = self.conv1(x)\n",
        "        x = self.pool1(x)\n",
        "        x = self.conv2(x)\n",
        "        x = self.pool2(x)\n",
        "        x = self.conv3(x)\n",
        "        x = self.pool3(x)\n",
        "        x = self.flatten(x)\n",
        "        x = self.d1(x)\n",
        "        x = self.dropout(x)\n",
        "        return self.d2(x)\n",
        "\n",
        "# Создание экземпляра модели\n",
        "model = MyModel()\n"
      ],
      "metadata": {
        "id": "9dad8LsiAoVx"
      },
      "execution_count": 39,
      "outputs": []
    },
    {
      "cell_type": "markdown",
      "source": [
        "Выбор оптимизатора и функции потерь для обучения"
      ],
      "metadata": {
        "id": "oolQvxEkEgNk"
      }
    },
    {
      "cell_type": "code",
      "source": [
        "# Функция потерь для многоклассовой классификации, где метки класса представлены целыми числами\n",
        "loss_object = tf.keras.losses.SparseCategoricalCrossentropy(from_logits=True)\n",
        "# Оптимизатор, который автоматически регулирует шаг обучения для каждого параметра и ускоряет обучение\n",
        "optimizer = tf.keras.optimizers.Adam(learning_rate=0.0005)\n"
      ],
      "metadata": {
        "id": "i6o5zGXJD8Sb"
      },
      "execution_count": 40,
      "outputs": []
    },
    {
      "cell_type": "markdown",
      "source": [
        "Выбор показателей для измерения потерь и точности модели. Эти метрики\n",
        "накапливают значения за эпохи, а затем выводят общий результат."
      ],
      "metadata": {
        "id": "WsfsMg7oGAr3"
      }
    },
    {
      "cell_type": "code",
      "source": [
        "# Для вычисления среднего значения и точности\n",
        "train_loss = tf.keras.metrics.Mean(name='train_loss')\n",
        "train_accuracy = tf.keras.metrics.SparseCategoricalAccuracy(name='train_accuracy')\n",
        "test_loss = tf.keras.metrics.Mean(name='test_loss')\n",
        "test_accuracy = tf.keras.metrics.SparseCategoricalAccuracy(name='test_accuracy')"
      ],
      "metadata": {
        "id": "EdiEf3-rGBM_"
      },
      "execution_count": 41,
      "outputs": []
    },
    {
      "cell_type": "markdown",
      "source": [
        "6. Обучение и тестирование модели"
      ],
      "metadata": {
        "id": "OWu4acncbrnz"
      }
    },
    {
      "cell_type": "markdown",
      "source": [
        "Использование tf.GradientTape для обучения модели"
      ],
      "metadata": {
        "id": "k88C_rv0mFlW"
      }
    },
    {
      "cell_type": "code",
      "source": [
        "# Декоратор @tf.function ускоряет выполнение, преобразуя код в граф вычислений TensorFlow\n",
        "@tf.function\n",
        "def train_step(images, labels):\n",
        "    with tf.GradientTape() as tape:\n",
        "        # Прогоняем входные данные через модель, указывая training=True (важно для таких слоёв, как Dropout)\n",
        "        predictions = model(images, training=True)\n",
        "        loss = loss_object(labels, predictions)\n",
        "\n",
        "    # Вычисляем градиенты функции потерь по отношению к обучаемым параметрам модели\n",
        "    gradients = tape.gradient(loss, model.trainable_variables)\n",
        "    # Обновляем параметры модели (веса и смещения) используя оптимизатор\n",
        "    optimizer.apply_gradients(zip(gradients, model.trainable_variables))\n",
        "\n",
        "    # Обновляем метрики потерь и точности на тренировочных данных (сохр)\n",
        "    train_loss(loss)\n",
        "    train_accuracy(labels, predictions)\n"
      ],
      "metadata": {
        "id": "Ug5hfteabtDv"
      },
      "execution_count": 42,
      "outputs": []
    },
    {
      "cell_type": "markdown",
      "source": [
        "Тестирование модели"
      ],
      "metadata": {
        "id": "qPx2aoI3ntos"
      }
    },
    {
      "cell_type": "code",
      "source": [
        "@tf.function\n",
        "def test_step(images, labels):\n",
        "    # Прогоняем входные данные через модель, указывая training=False (модель в режиме тестирования)\n",
        "    predictions = model(images, training=False)\n",
        "    t_loss = loss_object(labels, predictions)\n",
        "\n",
        "    test_loss(t_loss)\n",
        "    test_accuracy(labels, predictions)"
      ],
      "metadata": {
        "id": "VwcpSZ4KntPc"
      },
      "execution_count": 43,
      "outputs": []
    },
    {
      "cell_type": "code",
      "source": [
        "EPOCHS = 10\n",
        "for epoch in range(EPOCHS):\n",
        "  # Сброс накопленных значений метрик перед каждой эпохой\n",
        "  train_loss.reset_state()\n",
        "  train_accuracy.reset_state()\n",
        "  test_loss.reset_state()\n",
        "  test_accuracy.reset_state()\n",
        "\n",
        "  # Обновляем параметры модели\n",
        "  # Обучение\n",
        "  for images, labels in train_ds:\n",
        "      train_step(images, labels)\n",
        "\n",
        "    # Тестирование\n",
        "  for test_images, test_labels in test_ds:\n",
        "      test_step(test_images, test_labels)\n",
        "\n",
        "  print(f'Epoch {epoch + 1}, '\n",
        "        f'Train Loss: {train_loss.result()}, '\n",
        "        f'Train Accuracy: {train_accuracy.result() * 100}, '\n",
        "        f'Test Loss: {test_loss.result()}, '\n",
        "        f'Test Accuracy: {test_accuracy.result() * 100}')"
      ],
      "metadata": {
        "id": "Azv9wbDgn9iP",
        "outputId": "7ae58b72-6607-47c4-f9d6-c9cd77d5be9c",
        "colab": {
          "base_uri": "https://localhost:8080/"
        }
      },
      "execution_count": 44,
      "outputs": [
        {
          "output_type": "stream",
          "name": "stdout",
          "text": [
            "Epoch 1, Train Loss: 1.4587513208389282, Train Accuracy: 47.34600067138672, Test Loss: 1.2065773010253906, Test Accuracy: 57.37000274658203\n",
            "Epoch 2, Train Loss: 1.0448334217071533, Train Accuracy: 63.454002380371094, Test Loss: 1.0172746181488037, Test Accuracy: 65.0\n",
            "Epoch 3, Train Loss: 0.8893352746963501, Train Accuracy: 68.88399505615234, Test Loss: 0.893649160861969, Test Accuracy: 69.19999694824219\n",
            "Epoch 4, Train Loss: 0.7785236239433289, Train Accuracy: 73.03800201416016, Test Loss: 0.8290667533874512, Test Accuracy: 71.1300048828125\n",
            "Epoch 5, Train Loss: 0.6947634816169739, Train Accuracy: 75.79600524902344, Test Loss: 0.8014608025550842, Test Accuracy: 72.38999938964844\n",
            "Epoch 6, Train Loss: 0.6257031559944153, Train Accuracy: 78.302001953125, Test Loss: 0.7739652991294861, Test Accuracy: 73.45999908447266\n",
            "Epoch 7, Train Loss: 0.5594082474708557, Train Accuracy: 80.40999603271484, Test Loss: 0.7626370191574097, Test Accuracy: 74.45999908447266\n",
            "Epoch 8, Train Loss: 0.49658918380737305, Train Accuracy: 82.7040023803711, Test Loss: 0.7877574563026428, Test Accuracy: 74.06999969482422\n",
            "Epoch 9, Train Loss: 0.442818284034729, Train Accuracy: 84.49400329589844, Test Loss: 0.8132748603820801, Test Accuracy: 74.44999694824219\n",
            "Epoch 10, Train Loss: 0.3891126811504364, Train Accuracy: 86.36199951171875, Test Loss: 0.8111903071403503, Test Accuracy: 74.95999908447266\n"
          ]
        }
      ]
    },
    {
      "cell_type": "markdown",
      "source": [
        "# Задание 3.\n",
        "# 1. Самостоятельно изучить функции библиотеки PyTorch для Python: https://pytorch.org/get-started/locally/, https://pytorch.org/docs/stable/index.html\n",
        "# 2. Используя библиотеку pytorch, повторить создание, обучение и оценку модели из Задания №2\n"
      ],
      "metadata": {
        "id": "OmjXzSmczWF_"
      }
    },
    {
      "cell_type": "markdown",
      "source": [
        "1. Установка библиотеки Python"
      ],
      "metadata": {
        "id": "--LWqh182rlR"
      }
    },
    {
      "cell_type": "code",
      "source": [
        "!pip install torch"
      ],
      "metadata": {
        "colab": {
          "base_uri": "https://localhost:8080/"
        },
        "outputId": "f6d98e5c-7ec1-4f2b-b20c-04deabbdddd7",
        "id": "kmOK78CD2rlS"
      },
      "execution_count": 45,
      "outputs": [
        {
          "output_type": "stream",
          "name": "stdout",
          "text": [
            "Requirement already satisfied: torch in /usr/local/lib/python3.10/dist-packages (2.5.1+cu121)\n",
            "Requirement already satisfied: filelock in /usr/local/lib/python3.10/dist-packages (from torch) (3.16.1)\n",
            "Requirement already satisfied: typing-extensions>=4.8.0 in /usr/local/lib/python3.10/dist-packages (from torch) (4.12.2)\n",
            "Requirement already satisfied: networkx in /usr/local/lib/python3.10/dist-packages (from torch) (3.4.2)\n",
            "Requirement already satisfied: jinja2 in /usr/local/lib/python3.10/dist-packages (from torch) (3.1.4)\n",
            "Requirement already satisfied: fsspec in /usr/local/lib/python3.10/dist-packages (from torch) (2024.10.0)\n",
            "Requirement already satisfied: sympy==1.13.1 in /usr/local/lib/python3.10/dist-packages (from torch) (1.13.1)\n",
            "Requirement already satisfied: mpmath<1.4,>=1.1.0 in /usr/local/lib/python3.10/dist-packages (from sympy==1.13.1->torch) (1.3.0)\n",
            "Requirement already satisfied: MarkupSafe>=2.0 in /usr/local/lib/python3.10/dist-packages (from jinja2->torch) (3.0.2)\n"
          ]
        }
      ]
    },
    {
      "cell_type": "markdown",
      "source": [
        "Импорт библиотек"
      ],
      "metadata": {
        "id": "2eLcVXn8-kCT"
      }
    },
    {
      "cell_type": "code",
      "source": [
        "import torch\n",
        "import torch.nn as nn\n",
        "import torch.optim as optim\n",
        "import torchvision\n",
        "import torchvision.transforms as transforms\n",
        "from torch.utils.data import DataLoader"
      ],
      "metadata": {
        "id": "r99r4Lqv22dC"
      },
      "execution_count": 60,
      "outputs": []
    },
    {
      "cell_type": "markdown",
      "source": [
        "Преобразуем изображения в тензоры PyTorch в нормализованном диапазоне [-1,1]"
      ],
      "metadata": {
        "id": "p7zNm-3EjOhI"
      }
    },
    {
      "cell_type": "code",
      "source": [
        "transform = transforms.Compose([\n",
        "    transforms.ToTensor(),\n",
        "    transforms.Normalize((0.5, 0.5, 0.5), (0.5, 0.5, 0.5))\n",
        "])"
      ],
      "metadata": {
        "id": "nts45aiSjNF3"
      },
      "execution_count": 61,
      "outputs": []
    },
    {
      "cell_type": "markdown",
      "source": [
        "Загрузка данных из torchvision.datasets"
      ],
      "metadata": {
        "id": "yjnM0vaqk0Bs"
      }
    },
    {
      "cell_type": "code",
      "source": [
        "trainset = torchvision.datasets.CIFAR10(root='./data', train=True, download=True, transform=transform)\n",
        "trainloader = torch.utils.data.DataLoader(trainset, batch_size=4, shuffle=True)\n",
        "\n",
        "testset = torchvision.datasets.CIFAR10(root='./data', train=False, download=True, transform=transform)\n",
        "testloader = torch.utils.data.DataLoader(testset, batch_size=4, shuffle=False)\n"
      ],
      "metadata": {
        "colab": {
          "base_uri": "https://localhost:8080/"
        },
        "id": "yK-UZi07kv5h",
        "outputId": "a9862f4d-42e2-41c2-d4d8-38fd2b7b1367"
      },
      "execution_count": 62,
      "outputs": [
        {
          "output_type": "stream",
          "name": "stdout",
          "text": [
            "Files already downloaded and verified\n",
            "Files already downloaded and verified\n"
          ]
        }
      ]
    },
    {
      "cell_type": "markdown",
      "source": [
        "Создание моделии"
      ],
      "metadata": {
        "id": "cWrhn1oOmuAv"
      }
    },
    {
      "cell_type": "code",
      "source": [
        "class MyModel(nn.Module):\n",
        "    def __init__(self):\n",
        "        super(MyModel, self).__init__()\n",
        "        # Первый сверточный слой с 32 фильтрами, размер ядра 3x3, padding сохраняет размер изображения\n",
        "        self.conv1 = nn.Conv2d(3, 32, kernel_size=3, padding=1)\n",
        "        self.pool1 = nn.MaxPool2d(kernel_size=2, stride=2)  # Уменьшение размерности в 2 раза\n",
        "        self.conv2 = nn.Conv2d(32, 64, kernel_size=3, padding=1)\n",
        "        self.pool2 = nn.MaxPool2d(kernel_size=2, stride=2)\n",
        "        self.conv3 = nn.Conv2d(64, 128, kernel_size=3, padding=1)\n",
        "        self.pool3 = nn.MaxPool2d(kernel_size=2, stride=2)\n",
        "        self.flatten = nn.Flatten()\n",
        "\n",
        "        self.fc1 = nn.Linear(128 * 4 * 4, 128)  # Полносвязный слой\n",
        "        self.dropout = nn.Dropout(0.1)\n",
        "        self.fc2 = nn.Linear(128, 10)  # Полносвязный слой для 10 классов (CIFAR-10)\n",
        "\n",
        "    def forward(self, x):\n",
        "        # Последовательное прохождение через слои модели\n",
        "        x = torch.relu(self.conv1(x))  # Активационная функция ReLU\n",
        "        x = self.pool1(x)\n",
        "        x = torch.relu(self.conv2(x))\n",
        "        x = self.pool2(x)\n",
        "        x = torch.relu(self.conv3(x))\n",
        "        x = self.pool3(x)\n",
        "        x = self.flatten(x)\n",
        "        x = torch.relu(self.fc1(x))\n",
        "        x = self.dropout(x)\n",
        "        x = self.fc2(x)  # Выходные логиты (не нормализованные вероятности)\n",
        "        return x\n",
        "\n",
        "# Создание экземпляра модели\n",
        "model = MyModel()"
      ],
      "metadata": {
        "id": "0E3ps9zSmvjl"
      },
      "execution_count": 63,
      "outputs": []
    },
    {
      "cell_type": "markdown",
      "source": [
        "Выбор оптимизатора и функции потерь для обучения"
      ],
      "metadata": {
        "id": "czjELYiaqKTh"
      }
    },
    {
      "cell_type": "code",
      "source": [
        "entropy = nn.CrossEntropyLoss()  # Функция потерь для многоклассовой классификации\n",
        "optimizer = optim.Adam(model.parameters(), lr=0.0005)  # Оптимизатор Adam с шагом обучения 0.0005"
      ],
      "metadata": {
        "id": "wbljaxUBqKyA"
      },
      "execution_count": 64,
      "outputs": []
    },
    {
      "cell_type": "markdown",
      "source": [
        "Обучение модели"
      ],
      "metadata": {
        "id": "vt8AwQvXrrMD"
      }
    },
    {
      "cell_type": "code",
      "source": [
        "def train(model, trainloader, optimizer, entropy):\n",
        "    model.train()\n",
        "    running_loss = 0.0\n",
        "    correct = 0\n",
        "    total = 0\n",
        "    for images, labels in trainloader:\n",
        "        optimizer.zero_grad()  # Обнуляем градиенты\n",
        "        outputs = model(images)\n",
        "        loss = entropy(outputs, labels)  # Вычисляем потери\n",
        "        loss.backward()\n",
        "        optimizer.step()  # Обновляем параметры\n",
        "\n",
        "        running_loss += loss.item()\n",
        "        _, predicted = torch.max(outputs, 1)\n",
        "        correct += (predicted == labels).sum().item()  # Считаем верное количество примеров, которые были классифицирваоны\n",
        "        total += labels.size(0)  # Общее количество примеров\n",
        "\n",
        "    train_loss = running_loss / len(trainloader)\n",
        "    train_accuracy = correct / total * 100\n",
        "    return train_loss, train_accuracy"
      ],
      "metadata": {
        "id": "lPgIPyRSrh7u"
      },
      "execution_count": 65,
      "outputs": []
    },
    {
      "cell_type": "markdown",
      "source": [
        "Тестирование модели"
      ],
      "metadata": {
        "id": "BDx0f6nstumC"
      }
    },
    {
      "cell_type": "code",
      "source": [
        "def test(model, testloader, entropy):\n",
        "    model.eval()\n",
        "    running_loss = 0.0\n",
        "    correct = 0\n",
        "    total = 0\n",
        "    with torch.no_grad():\n",
        "        for images, labels in testloader:\n",
        "            outputs = model(images)\n",
        "            loss = entropy(outputs, labels)\n",
        "            running_loss += loss.item()\n",
        "            _, predicted = torch.max(outputs, 1)\n",
        "            correct += (predicted == labels).sum().item()\n",
        "            total += labels.size(0)\n",
        "\n",
        "    test_loss = running_loss / len(testloader)\n",
        "    test_accuracy = correct / total * 100\n",
        "    return test_loss, test_accuracy\n"
      ],
      "metadata": {
        "id": "qgmOcwvVrjdH"
      },
      "execution_count": 66,
      "outputs": []
    },
    {
      "cell_type": "code",
      "source": [
        "# Обучение и тестирование модели\n",
        "EPOCHS = 5\n",
        "for epoch in range(EPOCHS):\n",
        "    train_loss, train_accuracy = train(model, trainloader, optimizer, entropy)\n",
        "    test_loss, test_accuracy = test(model, testloader, entropy)\n",
        "\n",
        "    print(f'Epoch {epoch + 1}, '\n",
        "          f'Train Loss: {train_loss:.4f}, '\n",
        "          f'Train Accuracy: {train_accuracy:.2f}%, '\n",
        "          f'Test Loss: {test_loss:.4f}, '\n",
        "          f'Test Accuracy: {test_accuracy:.2f}%')"
      ],
      "metadata": {
        "colab": {
          "base_uri": "https://localhost:8080/"
        },
        "id": "ClPQWtajrkwv",
        "outputId": "f787d63f-7251-44d9-9aa3-3bd80c7b2521"
      },
      "execution_count": 67,
      "outputs": [
        {
          "output_type": "stream",
          "name": "stdout",
          "text": [
            "Epoch 1, Train Loss: 1.3415, Train Accuracy: 51.45%, Test Loss: 1.0412, Test Accuracy: 62.72%\n",
            "Epoch 2, Train Loss: 0.9352, Train Accuracy: 67.27%, Test Loss: 0.8705, Test Accuracy: 69.23%\n",
            "Epoch 3, Train Loss: 0.7652, Train Accuracy: 73.21%, Test Loss: 0.8066, Test Accuracy: 72.55%\n",
            "Epoch 4, Train Loss: 0.6573, Train Accuracy: 77.07%, Test Loss: 0.7763, Test Accuracy: 73.42%\n",
            "Epoch 5, Train Loss: 0.5720, Train Accuracy: 79.92%, Test Loss: 0.7561, Test Accuracy: 75.02%\n"
          ]
        }
      ]
    }
  ]
}